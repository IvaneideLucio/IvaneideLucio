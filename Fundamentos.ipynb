{
  "nbformat": 4,
  "nbformat_minor": 0,
  "metadata": {
    "colab": {
      "provenance": [],
      "authorship_tag": "ABX9TyO0gr+zfgg1kIcfr42ftDFz",
      "include_colab_link": true
    },
    "kernelspec": {
      "name": "python3",
      "display_name": "Python 3"
    },
    "language_info": {
      "name": "python"
    }
  },
  "cells": [
    {
      "cell_type": "markdown",
      "metadata": {
        "id": "view-in-github",
        "colab_type": "text"
      },
      "source": [
        "<a href=\"https://colab.research.google.com/github/IvaneideLucio/IvaneideLucio/blob/master/Fundamentos.ipynb\" target=\"_parent\"><img src=\"https://colab.research.google.com/assets/colab-badge.svg\" alt=\"Open In Colab\"/></a>"
      ]
    },
    {
      "cell_type": "code",
      "source": [],
      "metadata": {
        "id": "hDy2ru4onnOX"
      },
      "execution_count": null,
      "outputs": []
    },
    {
      "cell_type": "code",
      "source": [
        "### Semana 1k"
      ],
      "metadata": {
        "id": "EqEUtvueoWBA"
      },
      "execution_count": null,
      "outputs": []
    },
    {
      "cell_type": "markdown",
      "source": [
        "## Semana 1\n"
      ],
      "metadata": {
        "id": "96nqAgDzoxpK"
      }
    },
    {
      "cell_type": "markdown",
      "source": [],
      "metadata": {
        "id": "nHRzSqnJobZi"
      }
    },
    {
      "cell_type": "code",
      "execution_count": null,
      "metadata": {
        "id": "hAVXRf8VfCEe"
      },
      "outputs": [],
      "source": [
        "# Tipos de dados\n",
        "# int:número inteiros int() converte valores em inteiro\n",
        "# float: números reais\n",
        "# booleanos: verdadeiro ou falso\n",
        "# funções internas permktem converter entre os diferente tipos"
      ]
    },
    {
      "cell_type": "code",
      "source": [
        "x = 1.76\n",
        "y = int(x) # converte un float(real) num int(inteiro)\n",
        "z = y  == 1\n",
        "\n",
        "print(\"x =\", x, \"| tipo: \" , type(x))\n",
        "print(\"y =\", y, \"| tipo: \" , type(y))\n",
        "print(\"z =\", z, \"| tipo: \" , type(z))"
      ],
      "metadata": {
        "colab": {
          "base_uri": "https://localhost:8080/"
        },
        "id": "YxV7CZrffXLc",
        "outputId": "4b2a27a2-19ba-4d16-e733-df185a73f517"
      },
      "execution_count": null,
      "outputs": [
        {
          "output_type": "stream",
          "name": "stdout",
          "text": [
            "x = 1.76 | tipo:  <class 'float'>\n",
            "y = 1 | tipo:  <class 'int'>\n",
            "z = True | tipo:  <class 'bool'>\n"
          ]
        }
      ]
    },
    {
      "cell_type": "code",
      "source": [
        "# tudo em python é objetos.\n",
        "# variáveis não têm tipo específico\n",
        "# O tipo é uma atributo do objeto que foi instanciado naquela variável\n",
        "# python determina o tipo automaticamente e identifica num atribuot\n",
        "# a identidade do objeto se insanciou x com um valor 2, e então atriubi 3.5, é criada uma nova instãncia que é\n",
        "# no caso de mudança de tipo, o python cria um novo objeto e não altera o objeto existes"
      ],
      "metadata": {
        "id": "fiN281dRf6Dk"
      },
      "execution_count": null,
      "outputs": []
    },
    {
      "cell_type": "code",
      "source": [
        "#Sequências: 3 tipos básicos\n",
        "# tupla: sequencia de elemetos, que podem ser de tipos distintos, incluidn até uma outra sequência, mas os elementos não podoe ser alterados\n",
        "# lista: sequenca ordenada de elemetos deqeualuer tipo, incluindo outras sequência, tanto os elementos pode ser alterados, quanto a própria lista, pode ter elementos adicionados ou removidos, etc.\n",
        "# String - conceitualmetne similara tupla, contudo os elemento são restitos á caracteres\n",
        "# nas sequências imutáveis, para realizer alterações é necessário criar outro objeto com as mudanças desejadas.\n",
        "# maneira como os eemtnso são acessados, todos os tipos permite o acesos aos elementos usando colchetes, começand de 0 até n-1\n",
        "\n",
        "\n"
      ],
      "metadata": {
        "id": "7OhPnQzAgqZC"
      },
      "execution_count": null,
      "outputs": []
    },
    {
      "cell_type": "code",
      "source": [
        "# tupla: criada com símbolo de parentes\n",
        "tp = (23,'abc',4.56,(2,3))\n",
        "print(tp[0])\n",
        "print(tp[1])\n",
        "print(tp[2])\n",
        "print(tp[3])\n"
      ],
      "metadata": {
        "colab": {
          "base_uri": "https://localhost:8080/"
        },
        "id": "gcZxNca7iMTk",
        "outputId": "9426dfb6-8eb4-4837-b8ed-5937cc791033"
      },
      "execution_count": null,
      "outputs": [
        {
          "output_type": "stream",
          "name": "stdout",
          "text": [
            "23\n",
            "abc\n",
            "4.56\n",
            "(2, 3)\n"
          ]
        }
      ]
    },
    {
      "cell_type": "code",
      "source": [
        "#tp[2]=1 - tuplas não podem ter seus elementos alterados"
      ],
      "metadata": {
        "id": "huXHvdh6idah"
      },
      "execution_count": null,
      "outputs": []
    },
    {
      "cell_type": "code",
      "source": [
        "ls= ['abc',34,4.34,23,9,98]\n",
        "print(ls)\n",
        "print(ls[0])\n",
        "print(ls[1])\n",
        "print(ls[2])\n",
        "print(ls[3])"
      ],
      "metadata": {
        "colab": {
          "base_uri": "https://localhost:8080/"
        },
        "id": "TwrkmX_Zjcu7",
        "outputId": "49632b96-2709-4e45-acda-404f7718db1a"
      },
      "execution_count": null,
      "outputs": [
        {
          "output_type": "stream",
          "name": "stdout",
          "text": [
            "['abc', 34, 4.34, 23, 9, 98]\n",
            "abc\n",
            "34\n",
            "4.34\n",
            "23\n"
          ]
        }
      ]
    },
    {
      "cell_type": "code",
      "source": [
        "ls[1]='teste'\n",
        "print(ls)"
      ],
      "metadata": {
        "colab": {
          "base_uri": "https://localhost:8080/"
        },
        "id": "tpXAMAuYj3B7",
        "outputId": "14165ef7-7199-4b3d-9fe5-71b8e12e5339"
      },
      "execution_count": null,
      "outputs": [
        {
          "output_type": "stream",
          "name": "stdout",
          "text": [
            "['abc', 'teste', 4.34, 23, 9, 98]\n"
          ]
        }
      ]
    },
    {
      "cell_type": "code",
      "source": [
        "ls.append('fim')\n",
        "print(ls)"
      ],
      "metadata": {
        "colab": {
          "base_uri": "https://localhost:8080/"
        },
        "id": "P9ID_E0gj7u_",
        "outputId": "b8d506f8-1fcb-4c7b-d95f-92bb400f3c4f"
      },
      "execution_count": null,
      "outputs": [
        {
          "output_type": "stream",
          "name": "stdout",
          "text": [
            "['abc', 'teste', 4.34, 23, 9, 98, 'fim', 'fim']\n"
          ]
        }
      ]
    },
    {
      "cell_type": "code",
      "source": [
        "ls.insert(6,'meio')\n",
        "print(ls)"
      ],
      "metadata": {
        "colab": {
          "base_uri": "https://localhost:8080/"
        },
        "id": "ONYNgAqDj_Uf",
        "outputId": "c7a04759-23c3-435e-8388-f0de436a64aa"
      },
      "execution_count": null,
      "outputs": [
        {
          "output_type": "stream",
          "name": "stdout",
          "text": [
            "['abc', 'teste', 4.34, 23, 9, 98, 'meio', 'fim', 'fim']\n"
          ]
        }
      ]
    },
    {
      "cell_type": "code",
      "source": [
        "del ls[7]\n",
        "print(ls)"
      ],
      "metadata": {
        "colab": {
          "base_uri": "https://localhost:8080/"
        },
        "id": "5hezhCdEkIAA",
        "outputId": "3c63afb3-d1ed-4d21-dd53-04a3dbc1199e"
      },
      "execution_count": null,
      "outputs": [
        {
          "output_type": "stream",
          "name": "stdout",
          "text": [
            "['abc', 'teste', 4.34, 23, 9, 98, 'meio', 'fim']\n"
          ]
        }
      ]
    },
    {
      "cell_type": "code",
      "source": [
        "del ls[-1]\n",
        "print(ls)"
      ],
      "metadata": {
        "colab": {
          "base_uri": "https://localhost:8080/"
        },
        "id": "nBxDyonvkPMY",
        "outputId": "7cfb40f0-aefc-47be-ed08-43f023da688c"
      },
      "execution_count": null,
      "outputs": [
        {
          "output_type": "stream",
          "name": "stdout",
          "text": [
            "['abc', 'teste', 4.34, 23, 9, 98, 'meio']\n"
          ]
        }
      ]
    },
    {
      "cell_type": "code",
      "source": [
        "tx = \"isso é ums string\"\n",
        "print(tx[0])\n",
        "print(tx[-1])"
      ],
      "metadata": {
        "colab": {
          "base_uri": "https://localhost:8080/"
        },
        "id": "Rd2C0mHpkW_P",
        "outputId": "1ae46b54-6959-484c-9a75-6073b3abec0c"
      },
      "execution_count": null,
      "outputs": [
        {
          "output_type": "stream",
          "name": "stdout",
          "text": [
            "i\n",
            "g\n"
          ]
        }
      ]
    },
    {
      "cell_type": "code",
      "source": [
        "print(len(tp))\n",
        "print(len(ls))\n",
        "print(len(tx))"
      ],
      "metadata": {
        "colab": {
          "base_uri": "https://localhost:8080/"
        },
        "id": "xiw4Aq0wkoJ_",
        "outputId": "e8d93a62-843c-4905-8692-470c92409618"
      },
      "execution_count": null,
      "outputs": [
        {
          "output_type": "stream",
          "name": "stdout",
          "text": [
            "4\n",
            "7\n",
            "17\n"
          ]
        }
      ]
    },
    {
      "cell_type": "code",
      "source": [],
      "metadata": {
        "id": "VlTvdZIPkvK_"
      },
      "execution_count": null,
      "outputs": []
    },
    {
      "cell_type": "code",
      "source": [
        "# slicing ou fatiamento: obter um subconjunto da sequ~encia sem ter que extrair manualmente cada um dels\n",
        "# i:j i= primeiro elemento desejado, j=é o elemento posteriro ao último elemento desejado. Assim se 3:6 obterá do 3 ao 5 elementos"
      ],
      "metadata": {
        "id": "R8Tb7eSWkmOQ"
      },
      "execution_count": null,
      "outputs": []
    },
    {
      "cell_type": "code",
      "source": [
        "print(ls)\n",
        "print(ls[0:2])\n",
        "print(ls[2:]) # a partir do 2 até o final\n",
        "print(ls[1:5])  # elementos de 1 a 4\n",
        "print(ls[:3])  # elementos de 0 a 2\n",
        "print(ls[:-1])  # todos, exceto o últim (-1)\n"
      ],
      "metadata": {
        "colab": {
          "base_uri": "https://localhost:8080/"
        },
        "id": "dt0UCC2ElFdv",
        "outputId": "02fff82c-d445-4fa5-96b8-5f0933467241"
      },
      "execution_count": null,
      "outputs": [
        {
          "output_type": "stream",
          "name": "stdout",
          "text": [
            "['abc', 'teste', 4.34, 23, 9, 98, 'meio']\n",
            "['abc', 'teste']\n",
            "[4.34, 23, 9, 98, 'meio']\n",
            "['teste', 4.34, 23, 9]\n",
            "['abc', 'teste', 4.34]\n",
            "['abc', 'teste', 4.34, 23, 9, 98]\n"
          ]
        }
      ]
    },
    {
      "cell_type": "code",
      "source": [
        "#Dicionário: cahave e valor\n",
        "# as chaves podem ser qq tipo imutável: string, tupla, númeor inteiro, etc.\n",
        "# os valores pode ser quase qq coisa: lista, tuplas, números,\n",
        "# dicionários pode guardar valores e chaves de tipos diferetes.\n",
        "# é possível alerar o dicionário, add novos pares chave e valor, removendo um já existente ou alterando uma valor ja existente\n",
        "# são criados usando chaves\n"
      ],
      "metadata": {
        "id": "id0f9KZ1ly9n"
      },
      "execution_count": null,
      "outputs": []
    },
    {
      "cell_type": "code",
      "source": [
        "d = {'c1':3.0,\n",
        "     'c2':27,\n",
        "     'c3':'O valor da chave três'}\n",
        "print(d)"
      ],
      "metadata": {
        "colab": {
          "base_uri": "https://localhost:8080/"
        },
        "id": "v-Y6Tly7mG1X",
        "outputId": "e2a9631e-8480-427f-a40e-ccb62d07ea78"
      },
      "execution_count": null,
      "outputs": [
        {
          "output_type": "stream",
          "name": "stdout",
          "text": [
            "{'c1': 3.0, 'c2': 27, 'c3': 'O valor da chave três'}\n"
          ]
        }
      ]
    },
    {
      "cell_type": "code",
      "source": [
        "print(d['c2'])"
      ],
      "metadata": {
        "colab": {
          "base_uri": "https://localhost:8080/"
        },
        "id": "QWxPq0h8nby-",
        "outputId": "22c3f7c6-8fc8-4166-a016-be5ebadee912"
      },
      "execution_count": null,
      "outputs": [
        {
          "output_type": "stream",
          "name": "stdout",
          "text": [
            "27\n"
          ]
        }
      ]
    },
    {
      "cell_type": "code",
      "source": [
        "d['casa']='qnn 26'\n",
        "print(d)"
      ],
      "metadata": {
        "colab": {
          "base_uri": "https://localhost:8080/"
        },
        "id": "BIQ0teEtneJe",
        "outputId": "987700ed-fe88-44b0-983c-6a083f016bac"
      },
      "execution_count": null,
      "outputs": [
        {
          "output_type": "stream",
          "name": "stdout",
          "text": [
            "{'c1': 3.0, 'c2': 27, 'c3': 'O valor da chave três', 'casa': 'qnn 26'}\n"
          ]
        }
      ]
    },
    {
      "cell_type": "code",
      "source": [
        "del d['casa']\n",
        "print(d)"
      ],
      "metadata": {
        "colab": {
          "base_uri": "https://localhost:8080/"
        },
        "id": "kyrZ5e3Sn0Nm",
        "outputId": "23837292-67a5-4b27-8259-8d8e149c2ac5"
      },
      "execution_count": null,
      "outputs": [
        {
          "output_type": "stream",
          "name": "stdout",
          "text": [
            "{'c1': 3.0, 'c2': 27, 'c3': 'O valor da chave três'}\n"
          ]
        }
      ]
    },
    {
      "cell_type": "code",
      "source": [
        "d.keys()"
      ],
      "metadata": {
        "colab": {
          "base_uri": "https://localhost:8080/"
        },
        "id": "dQD2g-aWoAje",
        "outputId": "1da2a457-3f01-4868-c804-53ecf31a6c23"
      },
      "execution_count": null,
      "outputs": [
        {
          "output_type": "execute_result",
          "data": {
            "text/plain": [
              "dict_keys(['c1', 'c2', 'c3'])"
            ]
          },
          "metadata": {},
          "execution_count": 41
        }
      ]
    },
    {
      "cell_type": "code",
      "source": [
        "print(d.keys())"
      ],
      "metadata": {
        "colab": {
          "base_uri": "https://localhost:8080/"
        },
        "id": "tdnO78YGoJ5t",
        "outputId": "7d264cbb-fe2b-4ff9-ec26-d6daa8b8c02d"
      },
      "execution_count": null,
      "outputs": [
        {
          "output_type": "stream",
          "name": "stdout",
          "text": [
            "dict_keys(['c1', 'c2', 'c3'])\n"
          ]
        }
      ]
    },
    {
      "cell_type": "code",
      "source": [
        "d.values()"
      ],
      "metadata": {
        "colab": {
          "base_uri": "https://localhost:8080/"
        },
        "id": "mKThivRsoNwm",
        "outputId": "6d9de9a3-1333-452b-8d30-05df210b5238"
      },
      "execution_count": null,
      "outputs": [
        {
          "output_type": "execute_result",
          "data": {
            "text/plain": [
              "dict_values([3.0, 27, 'O valor da chave três'])"
            ]
          },
          "metadata": {},
          "execution_count": 43
        }
      ]
    },
    {
      "cell_type": "code",
      "source": [
        "d.items()"
      ],
      "metadata": {
        "colab": {
          "base_uri": "https://localhost:8080/"
        },
        "id": "xYasn8ApoWl9",
        "outputId": "7fda7115-7cdd-467f-fea8-eb1fc3bfa2c1"
      },
      "execution_count": null,
      "outputs": [
        {
          "output_type": "execute_result",
          "data": {
            "text/plain": [
              "dict_items([('c1', 3.0), ('c2', 27), ('c3', 'O valor da chave três')])"
            ]
          },
          "metadata": {},
          "execution_count": 44
        }
      ]
    },
    {
      "cell_type": "code",
      "source": [
        "# Estrutura de controle"
      ],
      "metadata": {
        "id": "qLBZZsUdoX8W"
      },
      "execution_count": null,
      "outputs": []
    },
    {
      "cell_type": "code",
      "source": [
        "# if\n",
        "x = 2\n",
        "\n",
        "if x == 3:\n",
        "  y = 'trhee'\n",
        "else:\n",
        "  y = 'other thing'\n",
        "print(y)\n"
      ],
      "metadata": {
        "colab": {
          "base_uri": "https://localhost:8080/"
        },
        "id": "c1OpiUEco-S1",
        "outputId": "187688d6-b38f-4652-c6e2-815cbbf76b1a"
      },
      "execution_count": null,
      "outputs": [
        {
          "output_type": "stream",
          "name": "stdout",
          "text": [
            "other thing\n"
          ]
        }
      ]
    },
    {
      "cell_type": "code",
      "source": [
        "# if ternário:\n",
        "y = 'three' if x == 3 else 'other thing'\n",
        "print(y)"
      ],
      "metadata": {
        "colab": {
          "base_uri": "https://localhost:8080/"
        },
        "id": "bnnbXD8CpRJ9",
        "outputId": "c536f059-c53e-47d2-c5db-dbf708af7b1a"
      },
      "execution_count": null,
      "outputs": [
        {
          "output_type": "stream",
          "name": "stdout",
          "text": [
            "other thing\n"
          ]
        }
      ]
    },
    {
      "cell_type": "code",
      "source": [
        "minha_lista = []\n",
        "for i in range(0,20):\n",
        "  minha_lista.append(i)\n",
        "\n",
        "print('qtd elementos', len(minha_lista))\n"
      ],
      "metadata": {
        "colab": {
          "base_uri": "https://localhost:8080/"
        },
        "id": "Qu_jfXDXpT2N",
        "outputId": "23ea4d37-e143-487a-d8da-41f980080997"
      },
      "execution_count": null,
      "outputs": [
        {
          "output_type": "stream",
          "name": "stdout",
          "text": [
            "qtd elementos 20\n"
          ]
        }
      ]
    },
    {
      "cell_type": "code",
      "source": [
        "for val in minha_lista[1:]:\n",
        "  if val==10:\n",
        "    break\n",
        "  elif val ==2:\n",
        "    continue\n",
        "  print(val)"
      ],
      "metadata": {
        "colab": {
          "base_uri": "https://localhost:8080/"
        },
        "id": "v3GJ7XooqvU1",
        "outputId": "e73ab592-81ad-42ae-804a-84e3f1508164"
      },
      "execution_count": null,
      "outputs": [
        {
          "output_type": "stream",
          "name": "stdout",
          "text": [
            "1\n",
            "3\n",
            "4\n",
            "5\n",
            "6\n",
            "7\n",
            "8\n",
            "9\n"
          ]
        }
      ]
    },
    {
      "cell_type": "code",
      "source": [
        "for key,value in d.items():\n",
        "  print(key, '->', value)"
      ],
      "metadata": {
        "colab": {
          "base_uri": "https://localhost:8080/"
        },
        "id": "bUvo9bAqq-nV",
        "outputId": "490d19a5-7898-4b8b-f252-0550fa58b99b"
      },
      "execution_count": null,
      "outputs": [
        {
          "output_type": "stream",
          "name": "stdout",
          "text": [
            "c1 -> 3.0\n",
            "c2 -> 27\n",
            "c3 -> O valor da chave três\n"
          ]
        }
      ]
    },
    {
      "cell_type": "code",
      "source": [
        "for var in d.items():\n",
        "  print(var[0],'->', var[1])"
      ],
      "metadata": {
        "colab": {
          "base_uri": "https://localhost:8080/"
        },
        "id": "yeE7l2xysI7U",
        "outputId": "cf8bca59-0853-4c9d-dc3a-380606b2f749"
      },
      "execution_count": null,
      "outputs": [
        {
          "output_type": "stream",
          "name": "stdout",
          "text": [
            "c1 -> 3.0\n",
            "c2 -> 27\n",
            "c3 -> O valor da chave três\n"
          ]
        }
      ]
    },
    {
      "cell_type": "code",
      "source": [
        "#While: é executando enquanto um teste de validade retonra V.\n",
        "# tbm é possível usar else, que só é executada quando oa condição for F.\n",
        "count = 0\n",
        "while count < 10:\n",
        "  count = (count+ 1)\n",
        "  print(count)\n",
        "print(count+1)"
      ],
      "metadata": {
        "colab": {
          "base_uri": "https://localhost:8080/"
        },
        "id": "apZt-T4Xsqv8",
        "outputId": "4db374aa-4001-4012-eb3a-11850a521bb9"
      },
      "execution_count": null,
      "outputs": [
        {
          "output_type": "stream",
          "name": "stdout",
          "text": [
            "1\n",
            "2\n",
            "3\n",
            "4\n",
            "5\n",
            "6\n",
            "7\n",
            "8\n",
            "9\n",
            "10\n",
            "11\n"
          ]
        }
      ]
    },
    {
      "cell_type": "code",
      "source": [],
      "metadata": {
        "id": "cBayW0PGtKJs"
      },
      "execution_count": null,
      "outputs": []
    },
    {
      "cell_type": "markdown",
      "source": [
        "## Semana 2\n",
        "Referências, operações, comprehensions, funções e parâmetros\n",
        "\n",
        "a) Uma variável (x) faz referência a um endereço de memória que armazena o conteúdo.<p>\n",
        "b) quando uma variável y, é = á uma variável x, a variável y passa a referenciar o mesmo endereço que a variável x <p>\n",
        "c) a função id(variável) retorna o endereço de memória ao qual a variável faz referência.<p>\n",
        "d) no caso de alteração do contéudo, o comportamento difere em relação ao tipo do dado armazenado<p>\n",
        "- quando se trata dados mutáveis como listas, dicionários e outros o conteúdo é alterado no endereço referenciado e a mudança é percebida em todos as variáveis que referenciam o mesmo endereço<p>\n",
        "- quando se tratar de dados imutável com tuplas, inteiros, reais, strings, o puthon criará um novo objeto com o valor ajustado e o atribuirá a variável em uso, contudo as demais variáveis que referenciam o endereço original do dado se manterão inalterados.\n",
        "\n"
      ],
      "metadata": {
        "id": "CyTz4CbZp26j"
      }
    },
    {
      "cell_type": "code",
      "source": [
        "#a)\n",
        "x = [3,2]\n",
        "print(x)"
      ],
      "metadata": {
        "colab": {
          "base_uri": "https://localhost:8080/"
        },
        "id": "5YZt7OrSp5np",
        "outputId": "b91f23d6-f37a-4e76-fd3f-02c01f4856dc"
      },
      "execution_count": null,
      "outputs": [
        {
          "output_type": "stream",
          "name": "stdout",
          "text": [
            "[3, 2]\n"
          ]
        }
      ]
    },
    {
      "cell_type": "code",
      "source": [
        "y = x\n",
        "print(y)"
      ],
      "metadata": {
        "id": "aECepALrq769",
        "colab": {
          "base_uri": "https://localhost:8080/"
        },
        "outputId": "1f385729-a051-499c-de74-7ee98bf4576f"
      },
      "execution_count": null,
      "outputs": [
        {
          "output_type": "stream",
          "name": "stdout",
          "text": [
            "[3, 2]\n"
          ]
        }
      ]
    },
    {
      "cell_type": "code",
      "source": [
        "print(\"x -\", id(x))\n",
        "print(\"y -\", id(y))"
      ],
      "metadata": {
        "colab": {
          "base_uri": "https://localhost:8080/"
        },
        "id": "1gR6r0Id3LnM",
        "outputId": "f5d71324-9b24-4af8-f777-972904cf3292"
      },
      "execution_count": null,
      "outputs": [
        {
          "output_type": "stream",
          "name": "stdout",
          "text": [
            "x - 134541993645120\n",
            "y - 134541993645120\n"
          ]
        }
      ]
    },
    {
      "cell_type": "code",
      "source": [
        "x.append(8)"
      ],
      "metadata": {
        "id": "MW6Joede4mH6"
      },
      "execution_count": null,
      "outputs": []
    },
    {
      "cell_type": "code",
      "source": [
        "\n",
        "print(\"x -\", 'valor:', x,', id:', id(x))\n",
        "print(\"y -\", 'valor:', y,', id:', id(y))"
      ],
      "metadata": {
        "colab": {
          "base_uri": "https://localhost:8080/"
        },
        "id": "-n1Mxk5N4W4b",
        "outputId": "3b14ae5e-283d-44c9-daa9-c0a883f94e53"
      },
      "execution_count": null,
      "outputs": [
        {
          "output_type": "stream",
          "name": "stdout",
          "text": [
            "x - valor: [3, 2, 8] , id: 134541993645120\n",
            "y - valor: [3, 2, 8] , id: 134541993645120\n"
          ]
        }
      ]
    },
    {
      "cell_type": "code",
      "source": [
        "z = 2\n",
        "m = 2\n",
        "print(\"z -\", 'valor:', z,', id:', id(z))\n",
        "print(\"m -\", 'valor:', m,', id:', id(m))"
      ],
      "metadata": {
        "id": "3Kx8kHDfq6JN",
        "colab": {
          "base_uri": "https://localhost:8080/"
        },
        "outputId": "06340b38-1581-4fdd-b7ff-aaa80ead9b65"
      },
      "execution_count": null,
      "outputs": [
        {
          "output_type": "stream",
          "name": "stdout",
          "text": [
            "z - valor: 2 , id: 134543318237456\n",
            "m - valor: 2 , id: 134543318237456\n"
          ]
        }
      ]
    },
    {
      "cell_type": "code",
      "source": [
        "z = z+1\n",
        "print(\"z -\", 'valor:', z,'id:', id(z))\n",
        "print(\"m -\", 'valor:', m,'id:', id(m))"
      ],
      "metadata": {
        "colab": {
          "base_uri": "https://localhost:8080/"
        },
        "id": "ZgoB4HcL4AEr",
        "outputId": "9c6d686c-cb44-4720-8c49-4db74b696de8"
      },
      "execution_count": null,
      "outputs": [
        {
          "output_type": "stream",
          "name": "stdout",
          "text": [
            "z - valor: 3 id: 134543318237488\n",
            "m - valor: 2 id: 134543318237456\n"
          ]
        }
      ]
    },
    {
      "cell_type": "markdown",
      "source": [
        "<hr>"
      ],
      "metadata": {
        "id": "E4mTJ9Cb4UMe"
      }
    },
    {
      "cell_type": "markdown",
      "source": [
        "## Funções aplicáveis a sequências"
      ],
      "metadata": {
        "id": "Xx_eGqD_9gzs"
      }
    },
    {
      "cell_type": "markdown",
      "source": [
        "### Estruturas:\n"
      ],
      "metadata": {
        "id": "xuNOE1-x5cWD"
      }
    },
    {
      "cell_type": "markdown",
      "source": [
        "\"in\" aplicada à lista: localiza um valor um subconjunto de valores dentro de uma lista, o resultado será um Verdadeiro ou Falso"
      ],
      "metadata": {
        "id": "Yvl2hwfHU08o"
      }
    },
    {
      "cell_type": "code",
      "source": [
        "n = [1,2,3,4,5,6,7,8,9]\n",
        "v = ['a','e','i','o','u']\n",
        "a=(1,2,3)\n",
        "b=(4,5,6)\n",
        "h = 'Hello'\n",
        "w = 'World'\n"
      ],
      "metadata": {
        "id": "wltFPhb75cel"
      },
      "execution_count": null,
      "outputs": []
    },
    {
      "cell_type": "code",
      "source": [
        "print(id(a))\n",
        "a = a + b\n",
        "print(a)\n",
        "print(id(a))\n",
        "print(h + w)\n"
      ],
      "metadata": {
        "colab": {
          "base_uri": "https://localhost:8080/"
        },
        "id": "7uAc6R_B5tqa",
        "outputId": "01e8a8a1-6a77-4d04-a5ac-921d63ccd850"
      },
      "execution_count": null,
      "outputs": [
        {
          "output_type": "stream",
          "name": "stdout",
          "text": [
            "132995974632256\n",
            "(1, 2, 3, 4, 5, 6)\n",
            "132996471867424\n",
            "HelloWorld\n"
          ]
        }
      ]
    },
    {
      "cell_type": "code",
      "source": [
        "print(id(n))\n",
        "n = n + v\n",
        "print(id(n))\n",
        "# a soma de duas listas, o resultado é um objeto diferente dos anteriores."
      ],
      "metadata": {
        "colab": {
          "base_uri": "https://localhost:8080/"
        },
        "id": "dHcy-WCR53l6",
        "outputId": "2492bba9-66ac-4da4-852a-a8ac1a2c5079"
      },
      "execution_count": null,
      "outputs": [
        {
          "output_type": "stream",
          "name": "stdout",
          "text": [
            "132996456714048\n",
            "132996456090624\n"
          ]
        }
      ]
    },
    {
      "cell_type": "code",
      "source": [
        "print(id(lista),id(vogais))"
      ],
      "metadata": {
        "colab": {
          "base_uri": "https://localhost:8080/"
        },
        "id": "TJdAuPBL7H2z",
        "outputId": "4816e225-d1e0-486b-fb6c-0d6cfa145f7b"
      },
      "execution_count": null,
      "outputs": [
        {
          "output_type": "stream",
          "name": "stdout",
          "text": [
            "134541990900224 134541990898688\n"
          ]
        }
      ]
    },
    {
      "cell_type": "markdown",
      "source": [
        "### Operadores aplicados às variáveis e sequências\n"
      ],
      "metadata": {
        "id": "Tmt3hS8d7S5j"
      }
    },
    {
      "cell_type": "markdown",
      "source": [
        "#### operador *+*"
      ],
      "metadata": {
        "id": "Vk06YJkxVF-t"
      }
    },
    {
      "cell_type": "code",
      "source": [
        "print(lista + vogais)\n",
        "# concatena"
      ],
      "metadata": {
        "colab": {
          "base_uri": "https://localhost:8080/"
        },
        "id": "pU6Pvyvn9UBC",
        "outputId": "5f1c9592-9f7a-4d7c-85e9-4f5771b5eb47"
      },
      "execution_count": null,
      "outputs": [
        {
          "output_type": "stream",
          "name": "stdout",
          "text": [
            "[1, 2, 3, 4, 5, 6, 7, 8, 9, 'a', 'e', 'i', 'o', 'u']\n"
          ]
        }
      ]
    },
    {
      "cell_type": "markdown",
      "source": [
        "#### Operador *\n",
        "\n",
        "- argumentos ( listas e valor númérico), a sequência será repetida tantas quantas vezes represente o valor numérico\n",
        "- quando se tratar de lista de valores"
      ],
      "metadata": {
        "id": "JYCOayP7VXtl"
      }
    },
    {
      "cell_type": "code",
      "source": [
        "l = [1,2,3]\n",
        "print(l*3)"
      ],
      "metadata": {
        "colab": {
          "base_uri": "https://localhost:8080/"
        },
        "id": "qZZcuMoa9Una",
        "outputId": "00612a51-28a9-445b-a605-d6c94fa21911",
        "collapsed": true
      },
      "execution_count": null,
      "outputs": [
        {
          "output_type": "stream",
          "name": "stdout",
          "text": [
            "[1, 2, 3, 1, 2, 3, 1, 2, 3]\n"
          ]
        }
      ]
    },
    {
      "cell_type": "code",
      "source": [
        "t = ('a','b','c')\n",
        "print(t*3)\n"
      ],
      "metadata": {
        "colab": {
          "base_uri": "https://localhost:8080/"
        },
        "id": "OPDkbTP-Uf9-",
        "outputId": "c02bfb31-250e-4a7b-e330-877c3c870991"
      },
      "execution_count": null,
      "outputs": [
        {
          "output_type": "stream",
          "name": "stdout",
          "text": [
            "('a', 'b', 'c', 'a', 'b', 'c', 'a', 'b', 'c')\n"
          ]
        }
      ]
    },
    {
      "cell_type": "code",
      "source": [
        "print(5*'ab')"
      ],
      "metadata": {
        "colab": {
          "base_uri": "https://localhost:8080/"
        },
        "id": "iggBALUHjaPD",
        "outputId": "b370c590-5cea-4e07-b1ac-102901cff757"
      },
      "execution_count": null,
      "outputs": [
        {
          "output_type": "stream",
          "name": "stdout",
          "text": [
            "ababababab\n"
          ]
        }
      ]
    },
    {
      "cell_type": "markdown",
      "source": [
        "### Operações exclusiva para listas\n",
        "##### As principais são:\n",
        "- append:  insere elemetos ao fim da lista.\n",
        "- insert: insere o elemento na posição indicada\n",
        "- extend: concatena listas, atualiza a lista, operador + cria uma nova.\n",
        "- extend assume a o argumento é uma lista, enquanto o append assume que o argumento é um elemento."
      ],
      "metadata": {
        "id": "8h2JPXHoUgBp"
      }
    },
    {
      "cell_type": "code",
      "source": [
        "lst = [1,2,3,4]\n",
        "lst.append(5)\n",
        "print(lst)\n",
        "print(id(lst))"
      ],
      "metadata": {
        "colab": {
          "base_uri": "https://localhost:8080/"
        },
        "id": "Jn5LLbFoUgFF",
        "outputId": "7d356156-9278-4105-e1b3-1e6fbb4d0e9b"
      },
      "execution_count": null,
      "outputs": [
        {
          "output_type": "stream",
          "name": "stdout",
          "text": [
            "[1, 2, 3, 4, 5]\n"
          ]
        }
      ]
    },
    {
      "cell_type": "code",
      "source": [
        "lst.append([2,3,4])\n",
        "print(lst)\n",
        "print(id(lst))"
      ],
      "metadata": {
        "colab": {
          "base_uri": "https://localhost:8080/"
        },
        "id": "-yB6x2NjlTkb",
        "outputId": "b36ae3b6-d9f9-4f70-ab9c-e03fe8b5313d"
      },
      "execution_count": null,
      "outputs": [
        {
          "output_type": "stream",
          "name": "stdout",
          "text": [
            "[1, 'b', 2, 3, 4, 5, 'c', 'd', [8, 9, 0, 'b'], 'a', 'b', 'c', [2, 3, 4]]\n",
            "132995974927872\n"
          ]
        }
      ]
    },
    {
      "cell_type": "code",
      "source": [
        "lst.insert(1,'b')\n",
        "print(lst)\n",
        "print(id(lst))"
      ],
      "metadata": {
        "colab": {
          "base_uri": "https://localhost:8080/"
        },
        "id": "2zAxqbMgUgIL",
        "outputId": "d4c058c3-5940-4d4a-af69-42152aa297f3"
      },
      "execution_count": null,
      "outputs": [
        {
          "output_type": "stream",
          "name": "stdout",
          "text": [
            "[1, 'b', 2, 3, 4, 5]\n"
          ]
        }
      ]
    },
    {
      "cell_type": "code",
      "source": [
        "lst.extend(['c','d'])\n",
        "print(lst)\n",
        "print(id(lst))"
      ],
      "metadata": {
        "colab": {
          "base_uri": "https://localhost:8080/"
        },
        "id": "hxD98s8LkI92",
        "outputId": "b47a8f40-09cb-4c04-b9d1-3c934323d90b"
      },
      "execution_count": null,
      "outputs": [
        {
          "output_type": "stream",
          "name": "stdout",
          "text": [
            "[1, 'b', 2, 3, 4, 5, 'c', 'd']\n"
          ]
        }
      ]
    },
    {
      "cell_type": "code",
      "source": [
        "lst.append([8,9,0])\n",
        "print(lst)\n",
        "print(id(lst))"
      ],
      "metadata": {
        "colab": {
          "base_uri": "https://localhost:8080/"
        },
        "id": "yb7PBckpkM6j",
        "outputId": "210d1631-6cd1-40b9-8653-67882953c619"
      },
      "execution_count": null,
      "outputs": [
        {
          "output_type": "stream",
          "name": "stdout",
          "text": [
            "[1, 'b', 2, 3, 4, 5, 'c', 'd', [8, 9, 0]]\n",
            "132995974927872\n"
          ]
        }
      ]
    },
    {
      "cell_type": "code",
      "source": [
        "lst[-1].append('b')\n",
        "print(lst)\n",
        "print(id(lst))"
      ],
      "metadata": {
        "colab": {
          "base_uri": "https://localhost:8080/"
        },
        "id": "CHFHWm_gkM9K",
        "outputId": "5420fd45-5c9d-4cf1-a82a-ad5d85a946b5"
      },
      "execution_count": null,
      "outputs": [
        {
          "output_type": "stream",
          "name": "stdout",
          "text": [
            "[1, 'b', 2, 3, 4, 5, 'c', 'd', [8, 9, 0, 'b']]\n",
            "132995974927872\n"
          ]
        }
      ]
    },
    {
      "cell_type": "code",
      "source": [
        "lst.extend('abc')\n",
        "print(lst)\n",
        "print(id(lst))"
      ],
      "metadata": {
        "colab": {
          "base_uri": "https://localhost:8080/"
        },
        "id": "GJftqSvVkM_z",
        "outputId": "09a925e8-84b2-43ac-85f9-aa47c78ab51b"
      },
      "execution_count": null,
      "outputs": [
        {
          "output_type": "stream",
          "name": "stdout",
          "text": [
            "[1, 'b', 2, 3, 4, 5, 'c', 'd', [8, 9, 0, 'b'], 'a', 'b', 'c']\n",
            "132995974927872\n"
          ]
        }
      ]
    },
    {
      "cell_type": "markdown",
      "source": [
        "Outros métodos importantes para operar listas:\n",
        "- index: encontra a poisção na lista da primeira ocorrência de um dado elemento\n",
        "- count: conta o número de ocorrências de um dado elemento\n",
        "- reverse: reverte a ordem dos elementos da lista, modificando a lita original\n",
        "- sort: ordena os elementos na lista, modificando a lista original\n",
        "\n",
        "obs: as operações *sort* e *reverse* são 'in place' (modificam a lista)"
      ],
      "metadata": {
        "id": "ruFDyGSYkNB7"
      }
    },
    {
      "cell_type": "code",
      "source": [
        "xts = ['a','b','c','b','e','d']\n",
        "print(id(xts))\n",
        "index = xts.index('b') # encontra o índice da primeira ocorrência\n",
        "print(\"primeira ocorrência de 'b' na posição: \", index)\n",
        "count = xts.count('b')\n",
        "print(\"O número de ocorrências de 'b' é:\", count)"
      ],
      "metadata": {
        "colab": {
          "base_uri": "https://localhost:8080/"
        },
        "id": "kr9WmFYbl_Mq",
        "outputId": "c6f3c0ae-25a9-4572-d52f-3c8ded50ea7d"
      },
      "execution_count": null,
      "outputs": [
        {
          "output_type": "stream",
          "name": "stdout",
          "text": [
            "132995509224128\n",
            "primeira ocorrência de 'b' na posição:  1\n",
            "O número de ocorrências de 'b' é: 2\n"
          ]
        }
      ]
    },
    {
      "cell_type": "code",
      "source": [
        "xts.sort(reverse=True) # ordena os elementos da lista do maior para o menor.\n",
        "print(xts)\n",
        "xts.reverse()\n",
        "print(xts)"
      ],
      "metadata": {
        "colab": {
          "base_uri": "https://localhost:8080/"
        },
        "id": "u9XvPDwglrQL",
        "outputId": "e1c74926-ab01-4010-c3e0-cca895b6933f"
      },
      "execution_count": null,
      "outputs": [
        {
          "output_type": "stream",
          "name": "stdout",
          "text": [
            "['e', 'd', 'c', 'b', 'b', 'a']\n"
          ]
        }
      ]
    },
    {
      "cell_type": "code",
      "source": [],
      "metadata": {
        "colab": {
          "base_uri": "https://localhost:8080/"
        },
        "id": "bxMCoCbUlrSr",
        "outputId": "08259191-dab2-4ade-cf8f-b59172d85047"
      },
      "execution_count": null,
      "outputs": [
        {
          "output_type": "stream",
          "name": "stdout",
          "text": [
            "['a', 'b', 'b', 'c', 'd', 'e']\n"
          ]
        }
      ]
    },
    {
      "cell_type": "markdown",
      "source": [
        "Métodos para remover elementos das listas:\n",
        "- remove: remove a primeira ocorrência de um dado elemento\n",
        "- del lista[pos]: remove o elemento na posição indicada\n",
        "- pop: remove o último elemento da lista\n",
        "\n",
        "obs: as operações de remoção são 'in place' (modificam a lista)"
      ],
      "metadata": {
        "id": "RF9hoQjns-pY"
      }
    },
    {
      "cell_type": "code",
      "source": [
        "xts"
      ],
      "metadata": {
        "colab": {
          "base_uri": "https://localhost:8080/"
        },
        "id": "jBOwgtzplrVR",
        "outputId": "e3cffa97-d6fe-4c7f-b6f1-e62fed0f10d5"
      },
      "execution_count": null,
      "outputs": [
        {
          "output_type": "execute_result",
          "data": {
            "text/plain": [
              "['a', 'b', 'b', 'c', 'd', 'e']"
            ]
          },
          "metadata": {},
          "execution_count": 29
        }
      ]
    },
    {
      "cell_type": "code",
      "source": [
        "xts.remove('b')\n",
        "print(xts)\n",
        "del xts[-1]\n",
        "print(xts)\n",
        "xts.pop()\n",
        "print(xts)"
      ],
      "metadata": {
        "colab": {
          "base_uri": "https://localhost:8080/"
        },
        "id": "R4MtJpcPlrXX",
        "outputId": "969de6bb-d101-433d-8255-dc2513e7ee52"
      },
      "execution_count": null,
      "outputs": [
        {
          "output_type": "stream",
          "name": "stdout",
          "text": [
            "['a', 'b', 'c', 'd', 'e']\n"
          ]
        }
      ]
    },
    {
      "cell_type": "markdown",
      "source": [
        "Operadores nativos do python operam sobre listas <br>\n",
        "obs: diferença com os métodos intrinsecos é que ao invés de alterar a lista original, o método gera uma lista nova\n",
        "- sorted: ordena os elementos da lista, retornando uma nova lista\n",
        "- max:\n",
        "- min"
      ],
      "metadata": {
        "id": "fPQ4eEqJlrZe"
      }
    },
    {
      "cell_type": "code",
      "source": [
        "seq = 'adeakziomltdm'\n",
        "seq_ordenada_lista = sorted(seq)\n",
        "print(seq_ordenada_lista)\n",
        "print(seq)"
      ],
      "metadata": {
        "colab": {
          "base_uri": "https://localhost:8080/"
        },
        "id": "gH08ViuJvdqJ",
        "outputId": "1a7f2e80-2759-4e19-a39a-402b020438d5"
      },
      "execution_count": null,
      "outputs": [
        {
          "output_type": "stream",
          "name": "stdout",
          "text": [
            "['a', 'a', 'd', 'd', 'e', 'i', 'k', 'l', 'm', 'm', 'o', 't', 'z']\n",
            "adeakziomltdm\n"
          ]
        }
      ]
    },
    {
      "cell_type": "code",
      "source": [
        "seq_ordenada = ''.join(seq_ordenada_lista)\n",
        "print(seq_ordenada)"
      ],
      "metadata": {
        "colab": {
          "base_uri": "https://localhost:8080/"
        },
        "id": "50uZLOwMu5ao",
        "outputId": "323cf786-6309-4c07-f5b9-6c63a8ba54a1"
      },
      "execution_count": null,
      "outputs": [
        {
          "output_type": "stream",
          "name": "stdout",
          "text": [
            "aaddeiklmmotz\n"
          ]
        }
      ]
    },
    {
      "cell_type": "code",
      "source": [
        "print(seq_ordenada_lista)\n",
        "maximo = max(seq_ordenada_lista)\n",
        "print(maximo)\n",
        "minimo = min(seq_ordenada_lista)\n",
        "print(minimo)"
      ],
      "metadata": {
        "colab": {
          "base_uri": "https://localhost:8080/"
        },
        "id": "Im8eCyHSwPmh",
        "outputId": "7f09f2d9-e176-45aa-8743-c994b571d5ce"
      },
      "execution_count": null,
      "outputs": [
        {
          "output_type": "stream",
          "name": "stdout",
          "text": [
            "['a', 'a', 'd', 'd', 'e', 'i', 'k', 'l', 'm', 'm', 'o', 't', 'z']\n",
            "z\n",
            "a\n"
          ]
        }
      ]
    },
    {
      "cell_type": "markdown",
      "source": [
        "### Comprehension\n",
        "Sintaxe:\n",
        "- lista = [expressao for variavel_local in objeto]\n",
        "- Gera uma lista ou um dicionário\n",
        "Equivale à:\n",
        "- criar uma lista vazia\n",
        "- percorrer os elementos de um objeto\n",
        "- adicionar os objetos à lista criada"
      ],
      "metadata": {
        "id": "gI78uw-Eu8tp"
      }
    },
    {
      "cell_type": "code",
      "source": [
        "cst = [i**2 for i in range(-9,10)]\n",
        "print(cst)"
      ],
      "metadata": {
        "colab": {
          "base_uri": "https://localhost:8080/"
        },
        "id": "hXQJPLr5w-7Y",
        "outputId": "93329b03-fee6-49d2-de52-69c37bcde252"
      },
      "execution_count": null,
      "outputs": [
        {
          "output_type": "stream",
          "name": "stdout",
          "text": [
            "[81, 64, 49, 36, 25, 16, 9, 4, 1, 0, 1, 4, 9, 16, 25, 36, 49, 64, 81]\n"
          ]
        }
      ]
    },
    {
      "cell_type": "code",
      "source": [
        "#  com filtragem: IF\n",
        "#variavel = [expressao for variavel_local in objeto if condicao]\n",
        "l = [x**2 for x in range(-10,10) if x%2 != 0]\n",
        "print(l)\n"
      ],
      "metadata": {
        "colab": {
          "base_uri": "https://localhost:8080/"
        },
        "id": "O7hZO2-4wi74",
        "outputId": "3c689513-d9c3-48b7-ec4a-fcb85d791c8e"
      },
      "execution_count": null,
      "outputs": [
        {
          "output_type": "stream",
          "name": "stdout",
          "text": [
            "[81, 49, 25, 9, 1, 1, 9, 25, 49, 81]\n"
          ]
        }
      ]
    },
    {
      "cell_type": "code",
      "source": [
        "# Com filtragem: if else, a estrutura deve aparecer antes do laço for.\n",
        "l = [x**2 if x%2 !=0 else 0 for x in range(-10,10)]\n",
        "print(l)"
      ],
      "metadata": {
        "colab": {
          "base_uri": "https://localhost:8080/"
        },
        "id": "ilXisFnwwi-0",
        "outputId": "601fb55c-d0b5-456c-e35b-41c4a7012ce3"
      },
      "execution_count": null,
      "outputs": [
        {
          "output_type": "stream",
          "name": "stdout",
          "text": [
            "[0, 81, 0, 49, 0, 25, 0, 9, 0, 1, 0, 1, 0, 9, 0, 25, 0, 49, 0, 81]\n"
          ]
        }
      ]
    },
    {
      "cell_type": "code",
      "source": [
        "# For aninhados\n",
        "#lista = [expressao for variavel_local1 in objeto1 fir condicao 1\n",
        "#                   for variavel_local2 in objeto2 if condicao 2]"
      ],
      "metadata": {
        "id": "MKMJklDawjBs"
      },
      "execution_count": null,
      "outputs": []
    },
    {
      "cell_type": "code",
      "source": [
        "lista = [x+y for x in range(-10,10) for y in range(10) if y < x]\n",
        "print(lista)"
      ],
      "metadata": {
        "colab": {
          "base_uri": "https://localhost:8080/"
        },
        "id": "Bi4hgDLvwjEg",
        "outputId": "decc3043-ae91-4b80-e870-c277b49c34fc"
      },
      "execution_count": null,
      "outputs": [
        {
          "output_type": "stream",
          "name": "stdout",
          "text": [
            "[1, 2, 3, 3, 4, 5, 4, 5, 6, 7, 5, 6, 7, 8, 9, 6, 7, 8, 9, 10, 11, 7, 8, 9, 10, 11, 12, 13, 8, 9, 10, 11, 12, 13, 14, 15, 9, 10, 11, 12, 13, 14, 15, 16, 17]\n"
          ]
        }
      ]
    },
    {
      "cell_type": "code",
      "source": [],
      "metadata": {
        "id": "xTW1ep8xwjG5"
      },
      "execution_count": null,
      "outputs": []
    },
    {
      "cell_type": "code",
      "source": [],
      "metadata": {
        "id": "_uqhiYVGwjJj"
      },
      "execution_count": null,
      "outputs": []
    },
    {
      "cell_type": "code",
      "source": [],
      "metadata": {
        "id": "Qhd5DllSwjMD"
      },
      "execution_count": null,
      "outputs": []
    },
    {
      "cell_type": "code",
      "source": [],
      "metadata": {
        "id": "Zwdu3F25wjOf"
      },
      "execution_count": null,
      "outputs": []
    },
    {
      "cell_type": "code",
      "source": [],
      "metadata": {
        "id": "lonkYpeewjRA"
      },
      "execution_count": null,
      "outputs": []
    }
  ]
}