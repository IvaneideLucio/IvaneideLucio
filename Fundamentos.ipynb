{
  "nbformat": 4,
  "nbformat_minor": 0,
  "metadata": {
    "colab": {
      "provenance": [],
      "authorship_tag": "ABX9TyOsgj2y2oRrb2uSCpgrw241",
      "include_colab_link": true
    },
    "kernelspec": {
      "name": "python3",
      "display_name": "Python 3"
    },
    "language_info": {
      "name": "python"
    }
  },
  "cells": [
    {
      "cell_type": "markdown",
      "metadata": {
        "id": "view-in-github",
        "colab_type": "text"
      },
      "source": [
        "<a href=\"https://colab.research.google.com/github/IvaneideLucio/IvaneideLucio/blob/master/Fundamentos.ipynb\" target=\"_parent\"><img src=\"https://colab.research.google.com/assets/colab-badge.svg\" alt=\"Open In Colab\"/></a>"
      ]
    },
    {
      "cell_type": "code",
      "execution_count": 1,
      "metadata": {
        "id": "hAVXRf8VfCEe"
      },
      "outputs": [],
      "source": [
        "# Tipos de dados\n",
        "# int:número inteiros int() converte valores em inteiro\n",
        "# float: números reais\n",
        "# booleanos: verdadeiro ou falso\n",
        "# funções internas permktem converter entre os diferente tipos"
      ]
    },
    {
      "cell_type": "code",
      "source": [
        "x = 1.76\n",
        "y = int(x) # converte un float(real) num int(inteiro)\n",
        "z = y  == 1\n",
        "\n",
        "print(\"x =\", x, \"| tipo: \" , type(x))\n",
        "print(\"y =\", y, \"| tipo: \" , type(y))\n",
        "print(\"z =\", z, \"| tipo: \" , type(z))"
      ],
      "metadata": {
        "colab": {
          "base_uri": "https://localhost:8080/"
        },
        "id": "YxV7CZrffXLc",
        "outputId": "4b2a27a2-19ba-4d16-e733-df185a73f517"
      },
      "execution_count": 3,
      "outputs": [
        {
          "output_type": "stream",
          "name": "stdout",
          "text": [
            "x = 1.76 | tipo:  <class 'float'>\n",
            "y = 1 | tipo:  <class 'int'>\n",
            "z = True | tipo:  <class 'bool'>\n"
          ]
        }
      ]
    },
    {
      "cell_type": "code",
      "source": [
        "# tudo em python é objetos.\n",
        "# variáveis não têm tipo específico\n",
        "# O tipo é uma atributo do objeto que foi instanciado naquela variável\n",
        "# python determina o tipo automaticamente e identifica num atribuot\n",
        "# a identidade do objeto se insanciou x com um valor 2, e então atriubi 3.5, é criada uma nova instãncia que é\n",
        "# no caso de mudança de tipo, o python cria um novo objeto e não altera o objeto existes"
      ],
      "metadata": {
        "id": "fiN281dRf6Dk"
      },
      "execution_count": 4,
      "outputs": []
    },
    {
      "cell_type": "code",
      "source": [
        "#Sequências: 3 tipos básicos\n",
        "# tupla: sequencia de elemetos, que podem ser de tipos distintos, incluidn até uma outra sequência, mas os elementos não podoe ser alterados\n",
        "# lista: sequenca ordenada de elemetos deqeualuer tipo, incluindo outras sequência, tanto os elementos pode ser alterados, quanto a própria lista, pode ter elementos adicionados ou removidos, etc.\n",
        "# String - conceitualmetne similara tupla, contudo os elemento são restitos á caracteres\n",
        "# nas sequências imutáveis, para realizer alterações é necessário criar outro objeto com as mudanças desejadas.\n",
        "# maneira como os eemtnso são acessados, todos os tipos permite o acesos aos elementos usando colchetes, começand de 0 até n-1\n",
        "\n",
        "\n"
      ],
      "metadata": {
        "id": "7OhPnQzAgqZC"
      },
      "execution_count": 5,
      "outputs": []
    },
    {
      "cell_type": "code",
      "source": [
        "# tupla: criada com símbolo de parentes\n",
        "tp = (23,'abc',4.56,(2,3))\n",
        "print(tp[0])\n",
        "print(tp[1])\n",
        "print(tp[2])\n",
        "print(tp[3])\n"
      ],
      "metadata": {
        "colab": {
          "base_uri": "https://localhost:8080/"
        },
        "id": "gcZxNca7iMTk",
        "outputId": "9426dfb6-8eb4-4837-b8ed-5937cc791033"
      },
      "execution_count": 9,
      "outputs": [
        {
          "output_type": "stream",
          "name": "stdout",
          "text": [
            "23\n",
            "abc\n",
            "4.56\n",
            "(2, 3)\n"
          ]
        }
      ]
    },
    {
      "cell_type": "code",
      "source": [
        "#tp[2]=1 - tuplas não podem ter seus elementos alterados"
      ],
      "metadata": {
        "id": "huXHvdh6idah"
      },
      "execution_count": 11,
      "outputs": []
    },
    {
      "cell_type": "code",
      "source": [
        "ls= ['abc',34,4.34,23,9,98]\n",
        "print(ls)\n",
        "print(ls[0])\n",
        "print(ls[1])\n",
        "print(ls[2])\n",
        "print(ls[3])"
      ],
      "metadata": {
        "colab": {
          "base_uri": "https://localhost:8080/"
        },
        "id": "TwrkmX_Zjcu7",
        "outputId": "49632b96-2709-4e45-acda-404f7718db1a"
      },
      "execution_count": 13,
      "outputs": [
        {
          "output_type": "stream",
          "name": "stdout",
          "text": [
            "['abc', 34, 4.34, 23, 9, 98]\n",
            "abc\n",
            "34\n",
            "4.34\n",
            "23\n"
          ]
        }
      ]
    },
    {
      "cell_type": "code",
      "source": [
        "ls[1]='teste'\n",
        "print(ls)"
      ],
      "metadata": {
        "colab": {
          "base_uri": "https://localhost:8080/"
        },
        "id": "tpXAMAuYj3B7",
        "outputId": "14165ef7-7199-4b3d-9fe5-71b8e12e5339"
      },
      "execution_count": 15,
      "outputs": [
        {
          "output_type": "stream",
          "name": "stdout",
          "text": [
            "['abc', 'teste', 4.34, 23, 9, 98]\n"
          ]
        }
      ]
    },
    {
      "cell_type": "code",
      "source": [
        "ls.append('fim')\n",
        "print(ls)"
      ],
      "metadata": {
        "colab": {
          "base_uri": "https://localhost:8080/"
        },
        "id": "P9ID_E0gj7u_",
        "outputId": "b8d506f8-1fcb-4c7b-d95f-92bb400f3c4f"
      },
      "execution_count": 17,
      "outputs": [
        {
          "output_type": "stream",
          "name": "stdout",
          "text": [
            "['abc', 'teste', 4.34, 23, 9, 98, 'fim', 'fim']\n"
          ]
        }
      ]
    },
    {
      "cell_type": "code",
      "source": [
        "ls.insert(6,'meio')\n",
        "print(ls)"
      ],
      "metadata": {
        "colab": {
          "base_uri": "https://localhost:8080/"
        },
        "id": "ONYNgAqDj_Uf",
        "outputId": "c7a04759-23c3-435e-8388-f0de436a64aa"
      },
      "execution_count": 18,
      "outputs": [
        {
          "output_type": "stream",
          "name": "stdout",
          "text": [
            "['abc', 'teste', 4.34, 23, 9, 98, 'meio', 'fim', 'fim']\n"
          ]
        }
      ]
    },
    {
      "cell_type": "code",
      "source": [
        "del ls[7]\n",
        "print(ls)"
      ],
      "metadata": {
        "colab": {
          "base_uri": "https://localhost:8080/"
        },
        "id": "5hezhCdEkIAA",
        "outputId": "3c63afb3-d1ed-4d21-dd53-04a3dbc1199e"
      },
      "execution_count": 20,
      "outputs": [
        {
          "output_type": "stream",
          "name": "stdout",
          "text": [
            "['abc', 'teste', 4.34, 23, 9, 98, 'meio', 'fim']\n"
          ]
        }
      ]
    },
    {
      "cell_type": "code",
      "source": [
        "del ls[-1]\n",
        "print(ls)"
      ],
      "metadata": {
        "colab": {
          "base_uri": "https://localhost:8080/"
        },
        "id": "nBxDyonvkPMY",
        "outputId": "7cfb40f0-aefc-47be-ed08-43f023da688c"
      },
      "execution_count": 21,
      "outputs": [
        {
          "output_type": "stream",
          "name": "stdout",
          "text": [
            "['abc', 'teste', 4.34, 23, 9, 98, 'meio']\n"
          ]
        }
      ]
    },
    {
      "cell_type": "code",
      "source": [
        "tx = \"isso é ums string\"\n",
        "print(tx[0])\n",
        "print(tx[-1])"
      ],
      "metadata": {
        "colab": {
          "base_uri": "https://localhost:8080/"
        },
        "id": "Rd2C0mHpkW_P",
        "outputId": "1ae46b54-6959-484c-9a75-6073b3abec0c"
      },
      "execution_count": 24,
      "outputs": [
        {
          "output_type": "stream",
          "name": "stdout",
          "text": [
            "i\n",
            "g\n"
          ]
        }
      ]
    },
    {
      "cell_type": "code",
      "source": [
        "print(len(tp))\n",
        "print(len(ls))\n",
        "print(len(tx))"
      ],
      "metadata": {
        "colab": {
          "base_uri": "https://localhost:8080/"
        },
        "id": "xiw4Aq0wkoJ_",
        "outputId": "e8d93a62-843c-4905-8692-470c92409618"
      },
      "execution_count": 26,
      "outputs": [
        {
          "output_type": "stream",
          "name": "stdout",
          "text": [
            "4\n",
            "7\n",
            "17\n"
          ]
        }
      ]
    },
    {
      "cell_type": "code",
      "source": [],
      "metadata": {
        "id": "VlTvdZIPkvK_"
      },
      "execution_count": null,
      "outputs": []
    },
    {
      "cell_type": "code",
      "source": [
        "# slicing ou fatiamento: obter um subconjunto da sequ~encia sem ter que extrair manualmente cada um dels\n",
        "# i:j i= primeiro elemento desejado, j=é o elemento posteriro ao último elemento desejado. Assim se 3:6 obterá do 3 ao 5 elementos"
      ],
      "metadata": {
        "id": "R8Tb7eSWkmOQ"
      },
      "execution_count": 27,
      "outputs": []
    },
    {
      "cell_type": "code",
      "source": [
        "print(ls)\n",
        "print(ls[0:2])\n",
        "print(ls[2:]) # a partir do 2 até o final\n",
        "print(ls[1:5])  # elementos de 1 a 4\n",
        "print(ls[:3])  # elementos de 0 a 2\n",
        "print(ls[:-1])  # todos, exceto o últim (-1)\n"
      ],
      "metadata": {
        "colab": {
          "base_uri": "https://localhost:8080/"
        },
        "id": "dt0UCC2ElFdv",
        "outputId": "02fff82c-d445-4fa5-96b8-5f0933467241"
      },
      "execution_count": 31,
      "outputs": [
        {
          "output_type": "stream",
          "name": "stdout",
          "text": [
            "['abc', 'teste', 4.34, 23, 9, 98, 'meio']\n",
            "['abc', 'teste']\n",
            "[4.34, 23, 9, 98, 'meio']\n",
            "['teste', 4.34, 23, 9]\n",
            "['abc', 'teste', 4.34]\n",
            "['abc', 'teste', 4.34, 23, 9, 98]\n"
          ]
        }
      ]
    },
    {
      "cell_type": "code",
      "source": [
        "#Dicionário: cahave e valor\n",
        "# as chaves podem ser qq tipo imutável: string, tupla, númeor inteiro, etc.\n",
        "# os valores pode ser quase qq coisa: lista, tuplas, números,\n",
        "# dicionários pode guardar valores e chaves de tipos diferetes.\n",
        "# é possível alerar o dicionário, add novos pares chave e valor, removendo um já existente ou alterando uma valor ja existente\n",
        "# são criados usando chaves\n"
      ],
      "metadata": {
        "id": "id0f9KZ1ly9n"
      },
      "execution_count": 32,
      "outputs": []
    },
    {
      "cell_type": "code",
      "source": [
        "d = {'c1':3.0,\n",
        "     'c2':27,\n",
        "     'c3':'O valor da chave três'}\n",
        "print(d)"
      ],
      "metadata": {
        "colab": {
          "base_uri": "https://localhost:8080/"
        },
        "id": "v-Y6Tly7mG1X",
        "outputId": "e2a9631e-8480-427f-a40e-ccb62d07ea78"
      },
      "execution_count": 34,
      "outputs": [
        {
          "output_type": "stream",
          "name": "stdout",
          "text": [
            "{'c1': 3.0, 'c2': 27, 'c3': 'O valor da chave três'}\n"
          ]
        }
      ]
    },
    {
      "cell_type": "code",
      "source": [
        "print(d['c2'])"
      ],
      "metadata": {
        "colab": {
          "base_uri": "https://localhost:8080/"
        },
        "id": "QWxPq0h8nby-",
        "outputId": "22c3f7c6-8fc8-4166-a016-be5ebadee912"
      },
      "execution_count": 35,
      "outputs": [
        {
          "output_type": "stream",
          "name": "stdout",
          "text": [
            "27\n"
          ]
        }
      ]
    },
    {
      "cell_type": "code",
      "source": [
        "d['casa']='qnn 26'\n",
        "print(d)"
      ],
      "metadata": {
        "colab": {
          "base_uri": "https://localhost:8080/"
        },
        "id": "BIQ0teEtneJe",
        "outputId": "987700ed-fe88-44b0-983c-6a083f016bac"
      },
      "execution_count": 36,
      "outputs": [
        {
          "output_type": "stream",
          "name": "stdout",
          "text": [
            "{'c1': 3.0, 'c2': 27, 'c3': 'O valor da chave três', 'casa': 'qnn 26'}\n"
          ]
        }
      ]
    },
    {
      "cell_type": "code",
      "source": [
        "del d['casa']\n",
        "print(d)"
      ],
      "metadata": {
        "colab": {
          "base_uri": "https://localhost:8080/"
        },
        "id": "kyrZ5e3Sn0Nm",
        "outputId": "23837292-67a5-4b27-8259-8d8e149c2ac5"
      },
      "execution_count": 37,
      "outputs": [
        {
          "output_type": "stream",
          "name": "stdout",
          "text": [
            "{'c1': 3.0, 'c2': 27, 'c3': 'O valor da chave três'}\n"
          ]
        }
      ]
    },
    {
      "cell_type": "code",
      "source": [
        "d.keys()"
      ],
      "metadata": {
        "colab": {
          "base_uri": "https://localhost:8080/"
        },
        "id": "dQD2g-aWoAje",
        "outputId": "1da2a457-3f01-4868-c804-53ecf31a6c23"
      },
      "execution_count": 41,
      "outputs": [
        {
          "output_type": "execute_result",
          "data": {
            "text/plain": [
              "dict_keys(['c1', 'c2', 'c3'])"
            ]
          },
          "metadata": {},
          "execution_count": 41
        }
      ]
    },
    {
      "cell_type": "code",
      "source": [
        "print(d.keys())"
      ],
      "metadata": {
        "colab": {
          "base_uri": "https://localhost:8080/"
        },
        "id": "tdnO78YGoJ5t",
        "outputId": "7d264cbb-fe2b-4ff9-ec26-d6daa8b8c02d"
      },
      "execution_count": 42,
      "outputs": [
        {
          "output_type": "stream",
          "name": "stdout",
          "text": [
            "dict_keys(['c1', 'c2', 'c3'])\n"
          ]
        }
      ]
    },
    {
      "cell_type": "code",
      "source": [
        "d.values()"
      ],
      "metadata": {
        "colab": {
          "base_uri": "https://localhost:8080/"
        },
        "id": "mKThivRsoNwm",
        "outputId": "6d9de9a3-1333-452b-8d30-05df210b5238"
      },
      "execution_count": 43,
      "outputs": [
        {
          "output_type": "execute_result",
          "data": {
            "text/plain": [
              "dict_values([3.0, 27, 'O valor da chave três'])"
            ]
          },
          "metadata": {},
          "execution_count": 43
        }
      ]
    },
    {
      "cell_type": "code",
      "source": [
        "d.items()"
      ],
      "metadata": {
        "colab": {
          "base_uri": "https://localhost:8080/"
        },
        "id": "xYasn8ApoWl9",
        "outputId": "7fda7115-7cdd-467f-fea8-eb1fc3bfa2c1"
      },
      "execution_count": 44,
      "outputs": [
        {
          "output_type": "execute_result",
          "data": {
            "text/plain": [
              "dict_items([('c1', 3.0), ('c2', 27), ('c3', 'O valor da chave três')])"
            ]
          },
          "metadata": {},
          "execution_count": 44
        }
      ]
    },
    {
      "cell_type": "code",
      "source": [
        "# Estrutura de controle"
      ],
      "metadata": {
        "id": "qLBZZsUdoX8W"
      },
      "execution_count": 45,
      "outputs": []
    },
    {
      "cell_type": "code",
      "source": [
        "# if\n",
        "x = 2\n",
        "\n",
        "if x == 3:\n",
        "  y = 'trhee'\n",
        "else:\n",
        "  y = 'other thing'\n",
        "print(y)\n"
      ],
      "metadata": {
        "colab": {
          "base_uri": "https://localhost:8080/"
        },
        "id": "c1OpiUEco-S1",
        "outputId": "187688d6-b38f-4652-c6e2-815cbbf76b1a"
      },
      "execution_count": 46,
      "outputs": [
        {
          "output_type": "stream",
          "name": "stdout",
          "text": [
            "other thing\n"
          ]
        }
      ]
    },
    {
      "cell_type": "code",
      "source": [
        "# if ternário:\n",
        "y = 'three' if x == 3 else 'other thing'\n",
        "print(y)"
      ],
      "metadata": {
        "colab": {
          "base_uri": "https://localhost:8080/"
        },
        "id": "bnnbXD8CpRJ9",
        "outputId": "c536f059-c53e-47d2-c5db-dbf708af7b1a"
      },
      "execution_count": 47,
      "outputs": [
        {
          "output_type": "stream",
          "name": "stdout",
          "text": [
            "other thing\n"
          ]
        }
      ]
    },
    {
      "cell_type": "code",
      "source": [
        "minha_lista = []\n",
        "for i in range(0,20):\n",
        "  minha_lista.append(i)\n",
        "\n",
        "print('qtd elementos', len(minha_lista))\n"
      ],
      "metadata": {
        "colab": {
          "base_uri": "https://localhost:8080/"
        },
        "id": "Qu_jfXDXpT2N",
        "outputId": "23ea4d37-e143-487a-d8da-41f980080997"
      },
      "execution_count": 48,
      "outputs": [
        {
          "output_type": "stream",
          "name": "stdout",
          "text": [
            "qtd elementos 20\n"
          ]
        }
      ]
    },
    {
      "cell_type": "code",
      "source": [
        "for val in minha_lista[1:]:\n",
        "  if val==10:\n",
        "    break\n",
        "  elif val ==2:\n",
        "    continue\n",
        "  print(val)"
      ],
      "metadata": {
        "colab": {
          "base_uri": "https://localhost:8080/"
        },
        "id": "v3GJ7XooqvU1",
        "outputId": "e73ab592-81ad-42ae-804a-84e3f1508164"
      },
      "execution_count": 52,
      "outputs": [
        {
          "output_type": "stream",
          "name": "stdout",
          "text": [
            "1\n",
            "3\n",
            "4\n",
            "5\n",
            "6\n",
            "7\n",
            "8\n",
            "9\n"
          ]
        }
      ]
    },
    {
      "cell_type": "code",
      "source": [
        "for key,value in d.items():\n",
        "  print(key, '->', value)"
      ],
      "metadata": {
        "colab": {
          "base_uri": "https://localhost:8080/"
        },
        "id": "bUvo9bAqq-nV",
        "outputId": "490d19a5-7898-4b8b-f252-0550fa58b99b"
      },
      "execution_count": 53,
      "outputs": [
        {
          "output_type": "stream",
          "name": "stdout",
          "text": [
            "c1 -> 3.0\n",
            "c2 -> 27\n",
            "c3 -> O valor da chave três\n"
          ]
        }
      ]
    },
    {
      "cell_type": "code",
      "source": [
        "for var in d.items():\n",
        "  print(var[0],'->', var[1])"
      ],
      "metadata": {
        "colab": {
          "base_uri": "https://localhost:8080/"
        },
        "id": "yeE7l2xysI7U",
        "outputId": "cf8bca59-0853-4c9d-dc3a-380606b2f749"
      },
      "execution_count": 54,
      "outputs": [
        {
          "output_type": "stream",
          "name": "stdout",
          "text": [
            "c1 -> 3.0\n",
            "c2 -> 27\n",
            "c3 -> O valor da chave três\n"
          ]
        }
      ]
    },
    {
      "cell_type": "code",
      "source": [
        "#While: é executando enquanto um teste de validade retonra V.\n",
        "# tbm é possível usar else, que só é executada quando oa condição for F.\n",
        "count = 0\n",
        "while count < 10:\n",
        "  count = (count+ 1)\n",
        "  print(count)\n",
        "print(count+1)"
      ],
      "metadata": {
        "colab": {
          "base_uri": "https://localhost:8080/"
        },
        "id": "apZt-T4Xsqv8",
        "outputId": "4db374aa-4001-4012-eb3a-11850a521bb9"
      },
      "execution_count": 55,
      "outputs": [
        {
          "output_type": "stream",
          "name": "stdout",
          "text": [
            "1\n",
            "2\n",
            "3\n",
            "4\n",
            "5\n",
            "6\n",
            "7\n",
            "8\n",
            "9\n",
            "10\n",
            "11\n"
          ]
        }
      ]
    },
    {
      "cell_type": "code",
      "source": [],
      "metadata": {
        "id": "cBayW0PGtKJs"
      },
      "execution_count": null,
      "outputs": []
    },
    {
      "cell_type": "code",
      "source": [],
      "metadata": {
        "id": "aECepALrq769"
      },
      "execution_count": null,
      "outputs": []
    },
    {
      "cell_type": "code",
      "source": [],
      "metadata": {
        "id": "3Kx8kHDfq6JN"
      },
      "execution_count": null,
      "outputs": []
    }
  ]
}